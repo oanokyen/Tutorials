{
  "nbformat": 4,
  "nbformat_minor": 5,
  "metadata": {
    "kernelspec": {
      "display_name": "Python 3",
      "language": "python",
      "name": "python3"
    },
    "language_info": {
      "codemirror_mode": {
        "name": "ipython",
        "version": 3
      },
      "file_extension": ".py",
      "mimetype": "text/x-python",
      "name": "python",
      "nbconvert_exporter": "python",
      "pygments_lexer": "ipython3",
      "version": "3.8.8"
    },
    "colab": {
      "name": "Untitled2.ipynb",
      "provenance": []
    }
  },
  "cells": [
    {
      "cell_type": "code",
      "metadata": {
        "id": "7ffcb51f"
      },
      "source": [
        "#import neccesary libraries\n",
        "import random"
      ],
      "id": "7ffcb51f",
      "execution_count": 1,
      "outputs": []
    },
    {
      "cell_type": "code",
      "metadata": {
        "id": "637664d9"
      },
      "source": [
        "class event:\n",
        "    def __init__(self, name, venue, capacity, s_distance=False):\n",
        "        \"\"\"Initialize event with no COVID Protocol enforced by default\"\"\"\n",
        "        self.name=name.title()\n",
        "        self.venue=venue\n",
        "        self.capacity=int(capacity)\n",
        "        self.s_distance=s_distance\n",
        "        \n",
        "        #by default seats occupied is zero for every event\n",
        "        self.seat_taken=[]\n",
        "        \n",
        "        #If Social distancing is enforced every other seat is occupied. Otherwise all seats are allowed to be occupied\n",
        "        if self.s_distance == True:\n",
        "            self.all_seats=list(range(1,self.capacity+1,2))\n",
        "        else:\n",
        "            self.all_seats=list(range(1,self.capacity+1))\n",
        "            \n",
        "    def __str__(self):\n",
        "        if self.s_distance==False:\n",
        "            return \"{} event at {} with {} capacity\".format(self.name, self.venue, self.capacity)\n",
        "        return \"{} event at {} with {} capacity. All COVID protocols enforced\".format(self.name, self.venue, self.capacity)\n",
        "\n",
        "    def check_seats(self):\n",
        "        \"\"\"Returns a list of available seats and number of available seats for user\"\"\"\n",
        "        \n",
        "        if 0 in self.seat_taken:\n",
        "            self.seat_taken.remove(0)\n",
        "        total_left = len(self.all_seats)-len(self.seat_taken)\n",
        "        self.seat_left=[]\n",
        "        for seat in self.all_seats:\n",
        "            if seat not in self.seat_taken:\n",
        "                self.seat_left.append(seat)\n",
        "        print(self.seat_left)\n",
        "        print('\\n')\n",
        "        return \"Information: Only {} seats left\".format(total_left)\n",
        "    \n",
        "    def book_seat(self):\n",
        "        \"\"\"Book a seat for the event\"\"\"\n",
        "        print('For a single ticket, type \"S\"','\\n','For a couple ticket, type \"C\"')\n",
        "        print('\\n')\n",
        "        \n",
        "        tic_type = input('Choose ticket type? S or C : ')\n",
        "        # 0 is appended to the seat taken list as a workaround\n",
        "        self.seat_taken.append(0)\n",
        "        seat_given = 0\n",
        "        \n",
        "        \n",
        "        while seat_given in self.seat_taken and tic_type == 'S':\n",
        "            seat_given = random.choice(self.all_seats)\n",
        "            if seat_given not in self.seat_taken:\n",
        "                self.seat_taken.append(seat_given)\n",
        "                print('seat',seat_given , 'has been assigned to you')\n",
        "                if 0 in self.seat_taken:\n",
        "                    self.seat_taken.remove(0)\n",
        "                break\n",
        "        while seat_given in self.seat_taken and tic_type=='C':\n",
        "            seat_given = random.choice(self.all_seats)\n",
        "            #Every other for social distancing and every  seat for no social distancing\n",
        "            if self.s_distance==False:\n",
        "                seat_given_2=seat_given+1\n",
        "            else:\n",
        "                seat_given_2=seat_given+2\n",
        "            print(seat_given)\n",
        "            if (seat_given not in self.seat_taken) and (seat_given_2 not in self.seat_taken):\n",
        "                self.seat_taken.append(seat_given)\n",
        "                self.seat_taken.append(seat_given_2)\n",
        "                print('seat {} & {} have been assigned to you two!'.format(seat_given,seat_given_2))\n",
        "                if 0 in self.seat_taken:\n",
        "                    self.seat_taken.remove(0)\n",
        "                break\n",
        "                "
      ],
      "id": "637664d9",
      "execution_count": 2,
      "outputs": []
    },
    {
      "cell_type": "code",
      "metadata": {
        "id": "jWuAE0ZG_76P"
      },
      "source": [
        "#Initialize event without Covid restrictions\n",
        "EPL_01=event('Super Sunday','Old Trafford', 50 )\n",
        "\n",
        "#Initailize event with COVID restrictions\n",
        "La_Liga_01 = event('El Classico', 'Santiago Bernabeu', 50, True)"
      ],
      "id": "jWuAE0ZG_76P",
      "execution_count": 3,
      "outputs": []
    },
    {
      "cell_type": "code",
      "metadata": {
        "colab": {
          "base_uri": "https://localhost:8080/"
        },
        "id": "AQrYO4H3AGeF",
        "outputId": "4f34c17d-f2e3-4978-e9d4-c734438c28cc"
      },
      "source": [
        "#Get details of First Event\n",
        "print(EPL_01)"
      ],
      "id": "AQrYO4H3AGeF",
      "execution_count": 4,
      "outputs": [
        {
          "output_type": "stream",
          "name": "stdout",
          "text": [
            "Super Sunday event at Old Trafford with 50 capacity\n"
          ]
        }
      ]
    },
    {
      "cell_type": "code",
      "metadata": {
        "colab": {
          "base_uri": "https://localhost:8080/"
        },
        "id": "5nRzGAVdBULU",
        "outputId": "b9a4a192-98ad-4159-d13b-a90947444c35"
      },
      "source": [
        "#Get details of Second Event\n",
        "print(La_Liga_01)"
      ],
      "id": "5nRzGAVdBULU",
      "execution_count": 5,
      "outputs": [
        {
          "output_type": "stream",
          "name": "stdout",
          "text": [
            "El Classico event at Santiago Bernabeu with 50 capacity. All COVID protocols enforced\n"
          ]
        }
      ]
    },
    {
      "cell_type": "code",
      "metadata": {
        "colab": {
          "base_uri": "https://localhost:8080/",
          "height": 107
        },
        "id": "26gCqwZjCTh_",
        "outputId": "965d06f1-dd0e-417d-b886-28c6cbc7400a"
      },
      "source": [
        "# test methods\n",
        "# A typical user first tests ticket (seats) slots available\n",
        "EPL_01.check_seats()\n",
        "\n",
        "#Displays all available seats and the total number remaining"
      ],
      "id": "26gCqwZjCTh_",
      "execution_count": 6,
      "outputs": [
        {
          "output_type": "stream",
          "name": "stdout",
          "text": [
            "[1, 2, 3, 4, 5, 6, 7, 8, 9, 10, 11, 12, 13, 14, 15, 16, 17, 18, 19, 20, 21, 22, 23, 24, 25, 26, 27, 28, 29, 30, 31, 32, 33, 34, 35, 36, 37, 38, 39, 40, 41, 42, 43, 44, 45, 46, 47, 48, 49, 50]\n",
            "\n",
            "\n"
          ]
        },
        {
          "output_type": "execute_result",
          "data": {
            "application/vnd.google.colaboratory.intrinsic+json": {
              "type": "string"
            },
            "text/plain": [
              "'Information: Only 50 seats left'"
            ]
          },
          "metadata": {},
          "execution_count": 6
        }
      ]
    },
    {
      "cell_type": "code",
      "metadata": {
        "colab": {
          "base_uri": "https://localhost:8080/",
          "height": 87
        },
        "id": "v4C3yJkgDDNM",
        "outputId": "0c37e945-bb78-409a-f004-a1155b7b145c"
      },
      "source": [
        "# Run the same check for the event with COVID protocols enforced\n",
        "La_Liga_01.check_seats()"
      ],
      "id": "v4C3yJkgDDNM",
      "execution_count": 7,
      "outputs": [
        {
          "output_type": "stream",
          "name": "stdout",
          "text": [
            "[1, 3, 5, 7, 9, 11, 13, 15, 17, 19, 21, 23, 25, 27, 29, 31, 33, 35, 37, 39, 41, 43, 45, 47, 49]\n",
            "\n",
            "\n"
          ]
        },
        {
          "output_type": "execute_result",
          "data": {
            "application/vnd.google.colaboratory.intrinsic+json": {
              "type": "string"
            },
            "text/plain": [
              "'Information: Only 25 seats left'"
            ]
          },
          "metadata": {},
          "execution_count": 7
        }
      ]
    },
    {
      "cell_type": "code",
      "metadata": {
        "id": "4QNXKf3JDogs"
      },
      "source": [
        "# Notice that with COVID protocols enforced there are only 25 seats left. Can you guess why?  "
      ],
      "id": "4QNXKf3JDogs",
      "execution_count": 8,
      "outputs": []
    },
    {
      "cell_type": "code",
      "metadata": {
        "id": "lk0xIeJ5EB1f"
      },
      "source": [
        "# So How do I book when I am available? Also I want to sit with next to my partner. (Why do you think I bought a Couples' ticket ! lol)"
      ],
      "id": "lk0xIeJ5EB1f",
      "execution_count": 9,
      "outputs": []
    },
    {
      "cell_type": "code",
      "metadata": {
        "colab": {
          "base_uri": "https://localhost:8080/"
        },
        "id": "OlINEAGSEYGw",
        "outputId": "e0e2c5d4-6dac-4b39-c1e6-120b2b0bf050"
      },
      "source": [
        "La_Liga_01.book_seat()"
      ],
      "id": "OlINEAGSEYGw",
      "execution_count": 10,
      "outputs": [
        {
          "output_type": "stream",
          "name": "stdout",
          "text": [
            "For a single ticket, type \"S\" \n",
            " For a couple ticket, type \"C\"\n",
            "\n",
            "\n",
            "Choose ticket type? S or C : C\n",
            "21\n",
            "seat 21 & 23 have been assigned to you two!\n"
          ]
        }
      ]
    },
    {
      "cell_type": "code",
      "metadata": {
        "colab": {
          "base_uri": "https://localhost:8080/"
        },
        "id": "VhwQjpjpFCOB",
        "outputId": "823c5d88-7482-4333-ccba-3569279e5bfe"
      },
      "source": [
        "La_Liga_01.book_seat()"
      ],
      "id": "VhwQjpjpFCOB",
      "execution_count": 11,
      "outputs": [
        {
          "output_type": "stream",
          "name": "stdout",
          "text": [
            "For a single ticket, type \"S\" \n",
            " For a couple ticket, type \"C\"\n",
            "\n",
            "\n",
            "Choose ticket type? S or C : C\n",
            "35\n",
            "seat 35 & 37 have been assigned to you two!\n"
          ]
        }
      ]
    },
    {
      "cell_type": "code",
      "metadata": {
        "colab": {
          "base_uri": "https://localhost:8080/",
          "height": 87
        },
        "id": "BWdk9wurFM6F",
        "outputId": "7a42361a-a941-48dd-97f6-6f6479c83888"
      },
      "source": [
        "La_Liga_01.check_seats()"
      ],
      "id": "BWdk9wurFM6F",
      "execution_count": 12,
      "outputs": [
        {
          "output_type": "stream",
          "name": "stdout",
          "text": [
            "[1, 3, 5, 7, 9, 11, 13, 15, 17, 19, 25, 27, 29, 31, 33, 39, 41, 43, 45, 47, 49]\n",
            "\n",
            "\n"
          ]
        },
        {
          "output_type": "execute_result",
          "data": {
            "application/vnd.google.colaboratory.intrinsic+json": {
              "type": "string"
            },
            "text/plain": [
              "'Information: Only 21 seats left'"
            ]
          },
          "metadata": {},
          "execution_count": 12
        }
      ]
    },
    {
      "cell_type": "code",
      "metadata": {
        "colab": {
          "base_uri": "https://localhost:8080/"
        },
        "id": "3DPryidaFdUz",
        "outputId": "067efec2-7758-4b63-b023-558d26ceca26"
      },
      "source": [
        "EPL_01.book_seat()"
      ],
      "id": "3DPryidaFdUz",
      "execution_count": 13,
      "outputs": [
        {
          "output_type": "stream",
          "name": "stdout",
          "text": [
            "For a single ticket, type \"S\" \n",
            " For a couple ticket, type \"C\"\n",
            "\n",
            "\n",
            "Choose ticket type? S or C : C\n",
            "21\n",
            "seat 21 & 22 have been assigned to you two!\n"
          ]
        }
      ]
    },
    {
      "cell_type": "code",
      "metadata": {
        "id": "Ay7ehg32G4Z_"
      },
      "source": [
        ""
      ],
      "id": "Ay7ehg32G4Z_",
      "execution_count": null,
      "outputs": []
    }
  ]
}